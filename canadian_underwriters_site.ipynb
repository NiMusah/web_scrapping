{
 "cells": [
  {
   "cell_type": "markdown",
   "metadata": {},
   "source": [
    "This script follows the two-step webscraping process which involves downloading a web page of interest using the requests Python module, then extract specific parts of the web page using the BeautifulSoup module"
   ]
  },
  {
   "cell_type": "markdown",
   "metadata": {},
   "source": [
    "An understanding of how the website is structured in terms of its tags- div and body tags etc- is of great importance in order to better direct the script\n",
    "Our website:http://www.canadianunderwriter.ca/inspress/page/7/"
   ]
  },
  {
   "cell_type": "code",
   "execution_count": 2,
   "metadata": {},
   "outputs": [],
   "source": [
    "#We now download the web page using the requests module\n",
    "import requests\n",
    "\n",
    "url= 'https://www.canadianunderwriter.ca/inspress/page/7/'\n",
    "webpage= requests.get(url).text"
   ]
  },
  {
   "cell_type": "markdown",
   "metadata": {},
   "source": [
    "The webpage variable created in the cell above holds the full textual (code) script that builds what the user sees on their internet browser. \n",
    "More specifically, the .get function prompts an initialization of a Response object when url is requested from the client/computer. \n",
    "Then the .text function of that Response object captures the textual representation of the web page/Response.\n",
    "The second step is to extract parts of this web page with the BeautifulSoup module."
   ]
  },
  {
   "cell_type": "markdown",
   "metadata": {},
   "source": [
    "We import the module and initialize the BeautifulSoup object (call it pageSoup). It will be initialized based on webpage from previous step. Then we use the functionality of the BeautifulSoup module/object and extract the first headline and subheadline that show up on the page with .select.\n",
    "\n",
    "After using the inspect option to determine the website's structure we found that our webpage of interest has its headline embedded within the <h4 class=”headline media-heading“> tag under the <div class=”media-body“> tag.  Preceding the class name with a “.” (and replacing spaces with them too) captures the element with that class name. \n",
    "    \n",
    "The way we have two class names passed there means we want the second element that’s hierarchically below the first element. (Note: If we only want the second element that’s directly under the first, we use ‘.className1 < .className2’.)"
   ]
  },
  {
   "cell_type": "code",
   "execution_count": 3,
   "metadata": {},
   "outputs": [],
   "source": [
    "import bs4"
   ]
  },
  {
   "cell_type": "markdown",
   "metadata": {},
   "source": [
    "A casual look at our website of interest revealed that the webpage of interest listed about twelve articles listed on it. The .select function here actually generates a list of twelve tag elements, each accounting for an article shown on the page. To retrieve the text from the first one, we add “[0].getText().” \n",
    "\n",
    "The second and third articles would be [1] and [2], so on and so forth. The code below shows the raw text that’s retrieved and saved into our firstHL and firstSHL variables."
   ]
  },
  {
   "cell_type": "code",
   "execution_count": 8,
   "metadata": {},
   "outputs": [],
   "source": [
    "pageSoup=bs4.BeautifulSoup(webpage, 'html.parser')\n",
    "firstHL=pageSoup.select('.media-body .headline.media-heading') [0].getText()\n",
    "firstSHL=pageSoup.select('.media-body .meta') [0].getText()"
   ]
  },
  {
   "cell_type": "markdown",
   "metadata": {},
   "source": [
    "Calling the firstHL and firstSHL variables will generate the raw text they retrieved and saved "
   ]
  },
  {
   "cell_type": "code",
   "execution_count": 9,
   "metadata": {},
   "outputs": [
    {
     "data": {
      "text/plain": [
       "'\\n                    EMRG Canada Appoints Anthony Tuson as National Director / COO                  '"
      ]
     },
     "execution_count": 9,
     "metadata": {},
     "output_type": "execute_result"
    }
   ],
   "source": [
    "firstHL"
   ]
  },
  {
   "cell_type": "code",
   "execution_count": 11,
   "metadata": {},
   "outputs": [
    {
     "data": {
      "text/plain": [
       "'\\n                        September 25, 2019 \\n                        by EMRG Canada                  '"
      ]
     },
     "execution_count": 11,
     "metadata": {},
     "output_type": "execute_result"
    }
   ],
   "source": [
    "firstSHL"
   ]
  },
  {
   "cell_type": "markdown",
   "metadata": {},
   "source": [
    "From is printed out, we understand that the data is not exactly clean and only a headline and subsequent sub headline are generated at a time. There might be a need to make this process dynamic in a way that requires the user to specify the number of headlines/subheadlines they need from the process."
   ]
  },
  {
   "cell_type": "code",
   "execution_count": null,
   "metadata": {},
   "outputs": [],
   "source": []
  }
 ],
 "metadata": {
  "kernelspec": {
   "display_name": "Python 3",
   "language": "python",
   "name": "python3"
  },
  "language_info": {
   "codemirror_mode": {
    "name": "ipython",
    "version": 3
   },
   "file_extension": ".py",
   "mimetype": "text/x-python",
   "name": "python",
   "nbconvert_exporter": "python",
   "pygments_lexer": "ipython3",
   "version": "3.7.4"
  }
 },
 "nbformat": 4,
 "nbformat_minor": 2
}
